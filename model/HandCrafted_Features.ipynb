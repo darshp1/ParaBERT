{
 "cells": [
  {
   "cell_type": "code",
   "execution_count": null,
   "metadata": {},
   "outputs": [],
   "source": [
    "import pandas as pd\n",
    "import numpy as np\n",
    "from sklearn.feature_extraction.text import TfidfVectorizer\n",
    "from sklearn.decomposition import TruncatedSVD\n",
    "from sklearn.metrics.pairwise import cosine_similarity\n",
    "from fuzzywuzzy import fuzz\n",
    "import networkx as nx\n",
    "import spacy\n",
    "import torch\n",
    "from transformers import BertTokenizer, BertModel\n",
    "import xgboost as xgb\n",
    "from sklearn.metrics import log_loss\n",
    "from sklearn.model_selection import train_test_split\n",
    "from sklearn.metrics import classification_report, accuracy_score, f1_score, precision_score, recall_score\n",
    "from tqdm import tqdm"
   ]
  },
  {
   "cell_type": "code",
   "execution_count": null,
   "metadata": {},
   "outputs": [],
   "source": [
    "data = pd.read_csv(\"../../../Data/Augmenting Datsets/Twitter_Augmented.csv\")\n",
    "data = data.dropna()\n",
    "data"
   ]
  },
  {
   "cell_type": "markdown",
   "metadata": {},
   "source": [
    "### LSA and Edit Distance"
   ]
  },
  {
   "cell_type": "code",
   "execution_count": null,
   "metadata": {},
   "outputs": [],
   "source": [
    "tfidf = TfidfVectorizer()\n",
    "tfidf_matrix = tfidf.fit_transform(data['sentence'].tolist() + data['paraphrase'].tolist())\n",
    "lsa = TruncatedSVD(n_components=5)\n",
    "lsa_features = lsa.fit_transform(tfidf_matrix)\n",
    "lsa_features_df = pd.DataFrame(lsa_features, columns=[f\"lsa_{i}\" for i in range(5)])\n",
    "data = pd.concat([data, lsa_features_df], axis=1)\n",
    "data['edit_distance'] = data.apply(lambda row: fuzz.token_set_ratio(row['sentence'], row['paraphrase']), axis=1)"
   ]
  },
  {
   "cell_type": "markdown",
   "metadata": {},
   "source": [
    "### Embeddings (Cosine Similarity)"
   ]
  },
  {
   "cell_type": "code",
   "execution_count": null,
   "metadata": {},
   "outputs": [],
   "source": [
    "from tqdm import tqdm\n",
    "tokenizer = BertTokenizer.from_pretrained('bert-base-uncased')\n",
    "model = BertModel.from_pretrained('bert-base-uncased')\n",
    "\n",
    "def get_bert_embedding(text):\n",
    "    tokens = tokenizer.tokenize(text)\n",
    "    tokens = ['[CLS]'] + tokens + ['[SEP]']\n",
    "    if len(tokens) > 512:  \n",
    "        tokens = tokens[:512]\n",
    "    ids = tokenizer.convert_tokens_to_ids(tokens)\n",
    "    ids_tensor = torch.tensor(ids).unsqueeze(0) \n",
    "    with torch.no_grad():\n",
    "        model_out = model(ids_tensor)\n",
    "    embeddings = model_out['last_hidden_state'][0]\n",
    "    mean_embedding = torch.mean(embeddings, dim=0).numpy()  \n",
    "    return mean_embedding\n",
    "\n",
    "tqdm.pandas()\n",
    "data['sentence_embedding'] = data['sentence'].progress_apply(get_bert_embedding)\n",
    "data['paraphrase_embedding'] = data['paraphrase'].progress_apply(get_bert_embedding)\n",
    "data['cosine_similarity'] = data.progress_apply(lambda row: cosine_similarity(row['sentence_embedding'].reshape(1, -1), row['paraphrase_embedding'].reshape(1, -1))[0][0], axis=1)"
   ]
  },
  {
   "cell_type": "code",
   "execution_count": null,
   "metadata": {},
   "outputs": [],
   "source": [
    "def unpack_embeddings(dataframe, embedding_column_name):\n",
    "    \"\"\"\n",
    "    Unpack embedding columns into separate features.\n",
    "    \"\"\"\n",
    "    embeddings = dataframe[embedding_column_name].apply(pd.Series)\n",
    "    embeddings = embeddings.rename(columns=lambda x: f\"{embedding_column_name}_{x}\")\n",
    "    dataframe = pd.concat([dataframe.drop([embedding_column_name], axis=1), embeddings], axis=1)\n",
    "    return dataframe\n",
    "\n",
    "embedding_column_names = [\"sentence_embedding\", \"paraphrase_embedding\"] \n",
    "for column in embedding_column_names:\n",
    "    data = unpack_embeddings(data, column)"
   ]
  },
  {
   "cell_type": "code",
   "execution_count": null,
   "metadata": {},
   "outputs": [],
   "source": [
    "features = data\n",
    "y = features['mi']\n",
    "X = features.drop(columns=['mi'])"
   ]
  }
 ],
 "metadata": {
  "kernelspec": {
   "display_name": ".venv",
   "language": "python",
   "name": "python3"
  },
  "language_info": {
   "codemirror_mode": {
    "name": "ipython",
    "version": 3
   },
   "file_extension": ".py",
   "mimetype": "text/x-python",
   "name": "python",
   "nbconvert_exporter": "python",
   "pygments_lexer": "ipython3",
   "version": "3.10.6"
  }
 },
 "nbformat": 4,
 "nbformat_minor": 2
}
