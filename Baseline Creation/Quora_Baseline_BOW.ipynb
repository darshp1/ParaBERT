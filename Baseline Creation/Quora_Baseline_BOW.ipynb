{
 "cells": [
  {
   "cell_type": "markdown",
   "metadata": {},
   "source": [
    "# Group Number: 42\n",
    "\n",
    "### This code is generating a Bag of words based baseline for the Quora dataset."
   ]
  },
  {
   "cell_type": "code",
   "execution_count": 1,
   "metadata": {},
   "outputs": [],
   "source": [
    "import numpy as np\n",
    "import pandas as pd\n",
    "import seaborn as sns\n",
    "import matplotlib.pyplot as plt"
   ]
  },
  {
   "cell_type": "code",
   "execution_count": 2,
   "metadata": {},
   "outputs": [],
   "source": [
    "df = pd.read_csv(\"Quora_QuestionPairs.csv\")"
   ]
  },
  {
   "cell_type": "code",
   "execution_count": 5,
   "metadata": {},
   "outputs": [
    {
     "data": {
      "text/html": [
       "<div>\n",
       "<style scoped>\n",
       "    .dataframe tbody tr th:only-of-type {\n",
       "        vertical-align: middle;\n",
       "    }\n",
       "\n",
       "    .dataframe tbody tr th {\n",
       "        vertical-align: top;\n",
       "    }\n",
       "\n",
       "    .dataframe thead th {\n",
       "        text-align: right;\n",
       "    }\n",
       "</style>\n",
       "<table border=\"1\" class=\"dataframe\">\n",
       "  <thead>\n",
       "    <tr style=\"text-align: right;\">\n",
       "      <th></th>\n",
       "      <th>id</th>\n",
       "      <th>qid1</th>\n",
       "      <th>qid2</th>\n",
       "      <th>question1</th>\n",
       "      <th>question2</th>\n",
       "      <th>is_duplicate</th>\n",
       "    </tr>\n",
       "  </thead>\n",
       "  <tbody>\n",
       "    <tr>\n",
       "      <th>0</th>\n",
       "      <td>0</td>\n",
       "      <td>1</td>\n",
       "      <td>2</td>\n",
       "      <td>What is the step by step guide to invest in sh...</td>\n",
       "      <td>What is the step by step guide to invest in sh...</td>\n",
       "      <td>0</td>\n",
       "    </tr>\n",
       "    <tr>\n",
       "      <th>1</th>\n",
       "      <td>1</td>\n",
       "      <td>3</td>\n",
       "      <td>4</td>\n",
       "      <td>What is the story of Kohinoor (Koh-i-Noor) Dia...</td>\n",
       "      <td>What would happen if the Indian government sto...</td>\n",
       "      <td>0</td>\n",
       "    </tr>\n",
       "    <tr>\n",
       "      <th>2</th>\n",
       "      <td>2</td>\n",
       "      <td>5</td>\n",
       "      <td>6</td>\n",
       "      <td>How can I increase the speed of my internet co...</td>\n",
       "      <td>How can Internet speed be increased by hacking...</td>\n",
       "      <td>0</td>\n",
       "    </tr>\n",
       "    <tr>\n",
       "      <th>3</th>\n",
       "      <td>3</td>\n",
       "      <td>7</td>\n",
       "      <td>8</td>\n",
       "      <td>Why am I mentally very lonely? How can I solve...</td>\n",
       "      <td>Find the remainder when [math]23^{24}[/math] i...</td>\n",
       "      <td>0</td>\n",
       "    </tr>\n",
       "    <tr>\n",
       "      <th>4</th>\n",
       "      <td>4</td>\n",
       "      <td>9</td>\n",
       "      <td>10</td>\n",
       "      <td>Which one dissolve in water quikly sugar, salt...</td>\n",
       "      <td>Which fish would survive in salt water?</td>\n",
       "      <td>0</td>\n",
       "    </tr>\n",
       "    <tr>\n",
       "      <th>5</th>\n",
       "      <td>5</td>\n",
       "      <td>11</td>\n",
       "      <td>12</td>\n",
       "      <td>Astrology: I am a Capricorn Sun Cap moon and c...</td>\n",
       "      <td>I'm a triple Capricorn (Sun, Moon and ascendan...</td>\n",
       "      <td>1</td>\n",
       "    </tr>\n",
       "    <tr>\n",
       "      <th>6</th>\n",
       "      <td>6</td>\n",
       "      <td>13</td>\n",
       "      <td>14</td>\n",
       "      <td>Should I buy tiago?</td>\n",
       "      <td>What keeps childern active and far from phone ...</td>\n",
       "      <td>0</td>\n",
       "    </tr>\n",
       "    <tr>\n",
       "      <th>7</th>\n",
       "      <td>7</td>\n",
       "      <td>15</td>\n",
       "      <td>16</td>\n",
       "      <td>How can I be a good geologist?</td>\n",
       "      <td>What should I do to be a great geologist?</td>\n",
       "      <td>1</td>\n",
       "    </tr>\n",
       "    <tr>\n",
       "      <th>8</th>\n",
       "      <td>8</td>\n",
       "      <td>17</td>\n",
       "      <td>18</td>\n",
       "      <td>When do you use シ instead of し?</td>\n",
       "      <td>When do you use \"&amp;\" instead of \"and\"?</td>\n",
       "      <td>0</td>\n",
       "    </tr>\n",
       "    <tr>\n",
       "      <th>9</th>\n",
       "      <td>9</td>\n",
       "      <td>19</td>\n",
       "      <td>20</td>\n",
       "      <td>Motorola (company): Can I hack my Charter Moto...</td>\n",
       "      <td>How do I hack Motorola DCX3400 for free internet?</td>\n",
       "      <td>0</td>\n",
       "    </tr>\n",
       "    <tr>\n",
       "      <th>10</th>\n",
       "      <td>10</td>\n",
       "      <td>21</td>\n",
       "      <td>22</td>\n",
       "      <td>Method to find separation of slits using fresn...</td>\n",
       "      <td>What are some of the things technicians can te...</td>\n",
       "      <td>0</td>\n",
       "    </tr>\n",
       "    <tr>\n",
       "      <th>11</th>\n",
       "      <td>11</td>\n",
       "      <td>23</td>\n",
       "      <td>24</td>\n",
       "      <td>How do I read and find my YouTube comments?</td>\n",
       "      <td>How can I see all my Youtube comments?</td>\n",
       "      <td>1</td>\n",
       "    </tr>\n",
       "    <tr>\n",
       "      <th>12</th>\n",
       "      <td>12</td>\n",
       "      <td>25</td>\n",
       "      <td>26</td>\n",
       "      <td>What can make Physics easy to learn?</td>\n",
       "      <td>How can you make physics easy to learn?</td>\n",
       "      <td>1</td>\n",
       "    </tr>\n",
       "    <tr>\n",
       "      <th>13</th>\n",
       "      <td>13</td>\n",
       "      <td>27</td>\n",
       "      <td>28</td>\n",
       "      <td>What was your first sexual experience like?</td>\n",
       "      <td>What was your first sexual experience?</td>\n",
       "      <td>1</td>\n",
       "    </tr>\n",
       "    <tr>\n",
       "      <th>14</th>\n",
       "      <td>14</td>\n",
       "      <td>29</td>\n",
       "      <td>30</td>\n",
       "      <td>What are the laws to change your status from a...</td>\n",
       "      <td>What are the laws to change your status from a...</td>\n",
       "      <td>0</td>\n",
       "    </tr>\n",
       "  </tbody>\n",
       "</table>\n",
       "</div>"
      ],
      "text/plain": [
       "    id  qid1  qid2                                          question1  \\\n",
       "0    0     1     2  What is the step by step guide to invest in sh...   \n",
       "1    1     3     4  What is the story of Kohinoor (Koh-i-Noor) Dia...   \n",
       "2    2     5     6  How can I increase the speed of my internet co...   \n",
       "3    3     7     8  Why am I mentally very lonely? How can I solve...   \n",
       "4    4     9    10  Which one dissolve in water quikly sugar, salt...   \n",
       "5    5    11    12  Astrology: I am a Capricorn Sun Cap moon and c...   \n",
       "6    6    13    14                                Should I buy tiago?   \n",
       "7    7    15    16                     How can I be a good geologist?   \n",
       "8    8    17    18                    When do you use シ instead of し?   \n",
       "9    9    19    20  Motorola (company): Can I hack my Charter Moto...   \n",
       "10  10    21    22  Method to find separation of slits using fresn...   \n",
       "11  11    23    24        How do I read and find my YouTube comments?   \n",
       "12  12    25    26               What can make Physics easy to learn?   \n",
       "13  13    27    28        What was your first sexual experience like?   \n",
       "14  14    29    30  What are the laws to change your status from a...   \n",
       "\n",
       "                                            question2  is_duplicate  \n",
       "0   What is the step by step guide to invest in sh...             0  \n",
       "1   What would happen if the Indian government sto...             0  \n",
       "2   How can Internet speed be increased by hacking...             0  \n",
       "3   Find the remainder when [math]23^{24}[/math] i...             0  \n",
       "4             Which fish would survive in salt water?             0  \n",
       "5   I'm a triple Capricorn (Sun, Moon and ascendan...             1  \n",
       "6   What keeps childern active and far from phone ...             0  \n",
       "7           What should I do to be a great geologist?             1  \n",
       "8               When do you use \"&\" instead of \"and\"?             0  \n",
       "9   How do I hack Motorola DCX3400 for free internet?             0  \n",
       "10  What are some of the things technicians can te...             0  \n",
       "11             How can I see all my Youtube comments?             1  \n",
       "12            How can you make physics easy to learn?             1  \n",
       "13             What was your first sexual experience?             1  \n",
       "14  What are the laws to change your status from a...             0  "
      ]
     },
     "execution_count": 5,
     "metadata": {},
     "output_type": "execute_result"
    }
   ],
   "source": [
    "df.head(15)"
   ]
  },
  {
   "cell_type": "code",
   "execution_count": 6,
   "metadata": {},
   "outputs": [
    {
     "data": {
      "text/plain": [
       "(404351, 6)"
      ]
     },
     "execution_count": 6,
     "metadata": {},
     "output_type": "execute_result"
    }
   ],
   "source": [
    "df.shape"
   ]
  },
  {
   "cell_type": "code",
   "execution_count": 7,
   "metadata": {},
   "outputs": [
    {
     "data": {
      "text/html": [
       "<div>\n",
       "<style scoped>\n",
       "    .dataframe tbody tr th:only-of-type {\n",
       "        vertical-align: middle;\n",
       "    }\n",
       "\n",
       "    .dataframe tbody tr th {\n",
       "        vertical-align: top;\n",
       "    }\n",
       "\n",
       "    .dataframe thead th {\n",
       "        text-align: right;\n",
       "    }\n",
       "</style>\n",
       "<table border=\"1\" class=\"dataframe\">\n",
       "  <thead>\n",
       "    <tr style=\"text-align: right;\">\n",
       "      <th></th>\n",
       "      <th>id</th>\n",
       "      <th>qid1</th>\n",
       "      <th>qid2</th>\n",
       "      <th>question1</th>\n",
       "      <th>question2</th>\n",
       "      <th>is_duplicate</th>\n",
       "    </tr>\n",
       "  </thead>\n",
       "  <tbody>\n",
       "    <tr>\n",
       "      <th>0</th>\n",
       "      <td>0</td>\n",
       "      <td>1</td>\n",
       "      <td>2</td>\n",
       "      <td>What is the step by step guide to invest in sh...</td>\n",
       "      <td>What is the step by step guide to invest in sh...</td>\n",
       "      <td>0</td>\n",
       "    </tr>\n",
       "    <tr>\n",
       "      <th>1</th>\n",
       "      <td>1</td>\n",
       "      <td>3</td>\n",
       "      <td>4</td>\n",
       "      <td>What is the story of Kohinoor (Koh-i-Noor) Dia...</td>\n",
       "      <td>What would happen if the Indian government sto...</td>\n",
       "      <td>0</td>\n",
       "    </tr>\n",
       "    <tr>\n",
       "      <th>2</th>\n",
       "      <td>2</td>\n",
       "      <td>5</td>\n",
       "      <td>6</td>\n",
       "      <td>How can I increase the speed of my internet co...</td>\n",
       "      <td>How can Internet speed be increased by hacking...</td>\n",
       "      <td>0</td>\n",
       "    </tr>\n",
       "    <tr>\n",
       "      <th>3</th>\n",
       "      <td>3</td>\n",
       "      <td>7</td>\n",
       "      <td>8</td>\n",
       "      <td>Why am I mentally very lonely? How can I solve...</td>\n",
       "      <td>Find the remainder when [math]23^{24}[/math] i...</td>\n",
       "      <td>0</td>\n",
       "    </tr>\n",
       "    <tr>\n",
       "      <th>4</th>\n",
       "      <td>4</td>\n",
       "      <td>9</td>\n",
       "      <td>10</td>\n",
       "      <td>Which one dissolve in water quikly sugar, salt...</td>\n",
       "      <td>Which fish would survive in salt water?</td>\n",
       "      <td>0</td>\n",
       "    </tr>\n",
       "    <tr>\n",
       "      <th>...</th>\n",
       "      <td>...</td>\n",
       "      <td>...</td>\n",
       "      <td>...</td>\n",
       "      <td>...</td>\n",
       "      <td>...</td>\n",
       "      <td>...</td>\n",
       "    </tr>\n",
       "    <tr>\n",
       "      <th>404346</th>\n",
       "      <td>404346</td>\n",
       "      <td>789792</td>\n",
       "      <td>789793</td>\n",
       "      <td>How many keywords are there in the Racket prog...</td>\n",
       "      <td>How many keywords are there in PERL Programmin...</td>\n",
       "      <td>0</td>\n",
       "    </tr>\n",
       "    <tr>\n",
       "      <th>404347</th>\n",
       "      <td>404347</td>\n",
       "      <td>789794</td>\n",
       "      <td>789795</td>\n",
       "      <td>Do you believe there is life after death?</td>\n",
       "      <td>Is it true that there is life after death?</td>\n",
       "      <td>1</td>\n",
       "    </tr>\n",
       "    <tr>\n",
       "      <th>404348</th>\n",
       "      <td>404348</td>\n",
       "      <td>789796</td>\n",
       "      <td>789797</td>\n",
       "      <td>What is one coin?</td>\n",
       "      <td>What's this coin?</td>\n",
       "      <td>0</td>\n",
       "    </tr>\n",
       "    <tr>\n",
       "      <th>404349</th>\n",
       "      <td>404349</td>\n",
       "      <td>789798</td>\n",
       "      <td>789799</td>\n",
       "      <td>What is the approx annual cost of living while...</td>\n",
       "      <td>I am having little hairfall problem but I want...</td>\n",
       "      <td>0</td>\n",
       "    </tr>\n",
       "    <tr>\n",
       "      <th>404350</th>\n",
       "      <td>404350</td>\n",
       "      <td>789800</td>\n",
       "      <td>789801</td>\n",
       "      <td>What is like to have sex with cousin?</td>\n",
       "      <td>What is it like to have sex with your cousin?</td>\n",
       "      <td>0</td>\n",
       "    </tr>\n",
       "  </tbody>\n",
       "</table>\n",
       "<p>404348 rows × 6 columns</p>\n",
       "</div>"
      ],
      "text/plain": [
       "            id    qid1    qid2  \\\n",
       "0            0       1       2   \n",
       "1            1       3       4   \n",
       "2            2       5       6   \n",
       "3            3       7       8   \n",
       "4            4       9      10   \n",
       "...        ...     ...     ...   \n",
       "404346  404346  789792  789793   \n",
       "404347  404347  789794  789795   \n",
       "404348  404348  789796  789797   \n",
       "404349  404349  789798  789799   \n",
       "404350  404350  789800  789801   \n",
       "\n",
       "                                                question1  \\\n",
       "0       What is the step by step guide to invest in sh...   \n",
       "1       What is the story of Kohinoor (Koh-i-Noor) Dia...   \n",
       "2       How can I increase the speed of my internet co...   \n",
       "3       Why am I mentally very lonely? How can I solve...   \n",
       "4       Which one dissolve in water quikly sugar, salt...   \n",
       "...                                                   ...   \n",
       "404346  How many keywords are there in the Racket prog...   \n",
       "404347          Do you believe there is life after death?   \n",
       "404348                                  What is one coin?   \n",
       "404349  What is the approx annual cost of living while...   \n",
       "404350              What is like to have sex with cousin?   \n",
       "\n",
       "                                                question2  is_duplicate  \n",
       "0       What is the step by step guide to invest in sh...             0  \n",
       "1       What would happen if the Indian government sto...             0  \n",
       "2       How can Internet speed be increased by hacking...             0  \n",
       "3       Find the remainder when [math]23^{24}[/math] i...             0  \n",
       "4                 Which fish would survive in salt water?             0  \n",
       "...                                                   ...           ...  \n",
       "404346  How many keywords are there in PERL Programmin...             0  \n",
       "404347         Is it true that there is life after death?             1  \n",
       "404348                                  What's this coin?             0  \n",
       "404349  I am having little hairfall problem but I want...             0  \n",
       "404350      What is it like to have sex with your cousin?             0  \n",
       "\n",
       "[404348 rows x 6 columns]"
      ]
     },
     "execution_count": 7,
     "metadata": {},
     "output_type": "execute_result"
    }
   ],
   "source": [
    "df.dropna()"
   ]
  },
  {
   "cell_type": "code",
   "execution_count": 8,
   "metadata": {},
   "outputs": [
    {
     "data": {
      "text/plain": [
       "<Axes: xlabel='is_duplicate'>"
      ]
     },
     "execution_count": 8,
     "metadata": {},
     "output_type": "execute_result"
    },
    {
     "data": {
      "image/png": "[encoded data removed]",
      "text/plain": [
       "<Figure size 640x480 with 1 Axes>"
      ]
     },
     "metadata": {},
     "output_type": "display_data"
    }
   ],
   "source": [
    "df[\"is_duplicate\"].value_counts().plot(kind = \"bar\")"
   ]
  },
  {
   "cell_type": "code",
   "execution_count": 12,
   "metadata": {},
   "outputs": [],
   "source": [
    "df = df[[\"question1\", \"question2\", \"is_duplicate\"]]\n",
    "df = df.dropna(subset=['question1', 'question2'])"
   ]
  },
  {
   "cell_type": "code",
   "execution_count": 35,
   "metadata": {},
   "outputs": [],
   "source": [
    "from sklearn.feature_extraction.text import CountVectorizer\n",
    "from scipy.sparse import hstack\n",
    "from sklearn.model_selection import train_test_split\n",
    "\n",
    "vectorizer = CountVectorizer(max_features=3000)\n",
    "question1_vec = vectorizer.fit_transform(df['question1'])\n",
    "question2_vec = vectorizer.transform(df['question2'])\n",
    "\n",
    "X = hstack([question1_vec, question2_vec])\n",
    "y = df['is_duplicate']\n",
    "\n",
    "X_train, X_test, y_train, y_test = train_test_split(X, y, test_size=0.2, random_state=7, stratify=y)"
   ]
  },
  {
   "cell_type": "code",
   "execution_count": 36,
   "metadata": {},
   "outputs": [
    {
     "data": {
      "text/plain": [
       "(323478, 6000)"
      ]
     },
     "execution_count": 36,
     "metadata": {},
     "output_type": "execute_result"
    }
   ],
   "source": [
    "X_train.shape"
   ]
  },
  {
   "cell_type": "markdown",
   "metadata": {},
   "source": [
    "## Logistic Regression"
   ]
  },
  {
   "cell_type": "code",
   "execution_count": 37,
   "metadata": {
    "scrolled": false
   },
   "outputs": [
    {
     "name": "stdout",
     "output_type": "stream",
     "text": [
      "Logistic Regression:\n",
      "Precision: 0.6990666666666666\n",
      "Recall: 0.5267405646160543\n",
      "F1-Score: 0.6007906648077767\n",
      "Accuracy: 0.7415234326697169\n"
     ]
    },
    {
     "name": "stderr",
     "output_type": "stream",
     "text": [
      "/opt/homebrew/lib/python3.11/site-packages/sklearn/linear_model/_logistic.py:460: ConvergenceWarning: lbfgs failed to converge (status=1):\n",
      "STOP: TOTAL NO. of ITERATIONS REACHED LIMIT.\n",
      "\n",
      "Increase the number of iterations (max_iter) or scale the data as shown in:\n",
      "    https://scikit-learn.org/stable/modules/preprocessing.html\n",
      "Please also refer to the documentation for alternative solver options:\n",
      "    https://scikit-learn.org/stable/modules/linear_model.html#logistic-regression\n",
      "  n_iter_i = _check_optimize_result(\n"
     ]
    }
   ],
   "source": [
    "from sklearn.linear_model import LogisticRegression\n",
    "from sklearn.metrics import precision_score, recall_score, f1_score, accuracy_score\n",
    "\n",
    "log_reg = LogisticRegression()\n",
    "log_reg.fit(X_train, y_train)\n",
    "\n",
    "y_pred = log_reg.predict(X_test)\n",
    "print(\"Logistic Regression:\")\n",
    "print(\"Precision:\", precision_score(y_test, y_pred))\n",
    "print(\"Recall:\", recall_score(y_test, y_pred))\n",
    "print(\"F1-Score:\", f1_score(y_test, y_pred))\n",
    "print(\"Accuracy:\", accuracy_score(y_test, y_pred))"
   ]
  },
  {
   "cell_type": "markdown",
   "metadata": {},
   "source": [
    "## Decision Tree"
   ]
  },
  {
   "cell_type": "code",
   "execution_count": 38,
   "metadata": {},
   "outputs": [
    {
     "name": "stdout",
     "output_type": "stream",
     "text": [
      "Decision Tree Classifier:\n",
      "Precision: 0.6492150102098885\n",
      "Recall: 0.6494759050266233\n",
      "F1-Score: 0.6493454314125958\n",
      "Accuracy: 0.740991715098306\n"
     ]
    }
   ],
   "source": [
    "# Initialize the Decision Tree Classifier\n",
    "from sklearn.tree import DecisionTreeClassifier\n",
    "\n",
    "dt_classifier = DecisionTreeClassifier(random_state=42)\n",
    "dt_classifier.fit(X_train, y_train)\n",
    "y_pred_dt = dt_classifier.predict(X_test)\n",
    "print(\"Decision Tree Classifier:\")\n",
    "print(\"Precision:\", precision_score(y_test, y_pred_dt))\n",
    "print(\"Recall:\", recall_score(y_test, y_pred_dt))\n",
    "print(\"F1-Score:\", f1_score(y_test, y_pred_dt))\n",
    "print(\"Accuracy:\", accuracy_score(y_test, y_pred_dt))\n"
   ]
  },
  {
   "cell_type": "markdown",
   "metadata": {},
   "source": [
    "## Random Forest"
   ]
  },
  {
   "cell_type": "code",
   "execution_count": null,
   "metadata": {},
   "outputs": [],
   "source": [
    "from sklearn.ensemble import RandomForestClassifier\n",
    "# Initialize the Random Forest Classifier\n",
    "rf_classifier = RandomForestClassifier(random_state=42)\n",
    "\n",
    "# Train the model\n",
    "rf_classifier.fit(X_train, y_train)\n",
    "y_pred_rf = rf_classifier.predict(X_test)\n",
    "print(\"Random Forest Classifier:\")\n",
    "print(\"Precision:\", precision_score(y_test, y_pred_rf))\n",
    "print(\"Recall:\", recall_score(y_test, y_pred_rf))\n",
    "print(\"F1-Score:\", f1_score(y_test, y_pred_rf))\n",
    "print(\"Accuracy:\", accuracy_score(y_test, y_pred_rf))\n"
   ]
  },
  {
   "cell_type": "markdown",
   "metadata": {},
   "source": [
    "## Ada Boost"
   ]
  },
  {
   "cell_type": "code",
   "execution_count": 40,
   "metadata": {},
   "outputs": [
    {
     "name": "stdout",
     "output_type": "stream",
     "text": [
      "Fitting 5 folds for each of 16 candidates, totalling 80 fits\n",
      "[CV] END ...............learning_rate=0.001, n_estimators=30; total time=   9.8s\n",
      "[CV] END ...............learning_rate=0.001, n_estimators=30; total time=   9.9s\n",
      "[CV] END ...............learning_rate=0.001, n_estimators=30; total time=  10.0s\n",
      "[CV] END ...............learning_rate=0.001, n_estimators=30; total time=  10.1s\n",
      "[CV] END ...............learning_rate=0.001, n_estimators=30; total time=  10.1s\n",
      "[CV] END ...............learning_rate=0.001, n_estimators=50; total time=  16.0s\n",
      "[CV] END ...............learning_rate=0.001, n_estimators=50; total time=  16.3s\n",
      "[CV] END ...............learning_rate=0.001, n_estimators=50; total time=  16.5s\n",
      "[CV] END ...............learning_rate=0.001, n_estimators=50; total time=  16.0s\n",
      "[CV] END ...............learning_rate=0.001, n_estimators=50; total time=  16.3s\n",
      "[CV] END ...............learning_rate=0.001, n_estimators=70; total time=  22.4s\n",
      "[CV] END ...............learning_rate=0.001, n_estimators=70; total time=  22.6s\n",
      "[CV] END ...............learning_rate=0.001, n_estimators=70; total time=  22.6s\n",
      "[CV] END ...............learning_rate=0.001, n_estimators=70; total time=  21.8s\n",
      "[CV] END ...............learning_rate=0.001, n_estimators=70; total time=  22.1s\n",
      "[CV] END ................learning_rate=0.01, n_estimators=30; total time=   9.1s\n",
      "[CV] END ................learning_rate=0.01, n_estimators=30; total time=   9.6s\n",
      "[CV] END ..............learning_rate=0.001, n_estimators=100; total time=  31.1s\n",
      "[CV] END ................learning_rate=0.01, n_estimators=30; total time=   9.5s\n",
      "[CV] END ................learning_rate=0.01, n_estimators=30; total time=   9.6s\n",
      "[CV] END ................learning_rate=0.01, n_estimators=30; total time=   9.4s\n",
      "[CV] END ..............learning_rate=0.001, n_estimators=100; total time=  31.4s\n",
      "[CV] END ..............learning_rate=0.001, n_estimators=100; total time=  31.5s\n",
      "[CV] END ................learning_rate=0.01, n_estimators=50; total time=  15.4s\n",
      "[CV] END ..............learning_rate=0.001, n_estimators=100; total time=  30.7s\n",
      "[CV] END ................learning_rate=0.01, n_estimators=50; total time=  15.5s\n",
      "[CV] END ..............learning_rate=0.001, n_estimators=100; total time=  30.8s\n",
      "[CV] END ................learning_rate=0.01, n_estimators=50; total time=  15.0s\n",
      "[CV] END ................learning_rate=0.01, n_estimators=50; total time=  15.5s\n",
      "[CV] END ................learning_rate=0.01, n_estimators=50; total time=  15.3s\n",
      "[CV] END ................learning_rate=0.01, n_estimators=70; total time=  22.5s\n",
      "[CV] END ................learning_rate=0.01, n_estimators=70; total time=  22.6s\n",
      "[CV] END ................learning_rate=0.01, n_estimators=70; total time=  22.5s\n",
      "[CV] END ................learning_rate=0.01, n_estimators=70; total time=  23.1s\n",
      "[CV] END ................learning_rate=0.01, n_estimators=70; total time=  23.4s\n",
      "[CV] END .................learning_rate=0.1, n_estimators=30; total time=  10.1s\n",
      "[CV] END .................learning_rate=0.1, n_estimators=30; total time=  10.0s\n",
      "[CV] END .................learning_rate=0.1, n_estimators=30; total time=  10.5s\n",
      "[CV] END ...............learning_rate=0.01, n_estimators=100; total time=  33.4s\n",
      "[CV] END .................learning_rate=0.1, n_estimators=30; total time=   9.3s\n",
      "[CV] END ...............learning_rate=0.01, n_estimators=100; total time=  33.2s\n",
      "[CV] END .................learning_rate=0.1, n_estimators=30; total time=   9.1s\n",
      "[CV] END ...............learning_rate=0.01, n_estimators=100; total time=  33.4s\n",
      "[CV] END ...............learning_rate=0.01, n_estimators=100; total time=  31.8s\n",
      "[CV] END .................learning_rate=0.1, n_estimators=50; total time=  15.2s\n",
      "[CV] END .................learning_rate=0.1, n_estimators=50; total time=  15.2s\n",
      "[CV] END ...............learning_rate=0.01, n_estimators=100; total time=  31.4s\n",
      "[CV] END .................learning_rate=0.1, n_estimators=50; total time=  15.0s\n",
      "[CV] END .................learning_rate=0.1, n_estimators=50; total time=  15.2s\n",
      "[CV] END .................learning_rate=0.1, n_estimators=50; total time=  15.0s\n",
      "[CV] END .................learning_rate=0.1, n_estimators=70; total time=  21.3s\n",
      "[CV] END .................learning_rate=0.1, n_estimators=70; total time=  21.5s\n",
      "[CV] END .................learning_rate=0.1, n_estimators=70; total time=  21.7s\n",
      "[CV] END .................learning_rate=0.1, n_estimators=70; total time=  21.2s\n",
      "[CV] END .................learning_rate=0.1, n_estimators=70; total time=  21.3s\n",
      "[CV] END ...................learning_rate=1, n_estimators=30; total time=   9.1s\n",
      "[CV] END ...................learning_rate=1, n_estimators=30; total time=   9.3s\n",
      "[CV] END ...................learning_rate=1, n_estimators=30; total time=   9.4s\n",
      "[CV] END ................learning_rate=0.1, n_estimators=100; total time=  31.0s\n",
      "[CV] END ................learning_rate=0.1, n_estimators=100; total time=  30.6s\n",
      "[CV] END ................learning_rate=0.1, n_estimators=100; total time=  31.1s\n",
      "[CV] END ...................learning_rate=1, n_estimators=30; total time=   9.1s\n",
      "[CV] END ...................learning_rate=1, n_estimators=30; total time=   9.1s\n",
      "[CV] END ................learning_rate=0.1, n_estimators=100; total time=  30.3s\n",
      "[CV] END ...................learning_rate=1, n_estimators=50; total time=  15.1s\n",
      "[CV] END ................learning_rate=0.1, n_estimators=100; total time=  30.4s\n",
      "[CV] END ...................learning_rate=1, n_estimators=50; total time=  15.1s\n",
      "[CV] END ...................learning_rate=1, n_estimators=50; total time=  15.4s\n",
      "[CV] END ...................learning_rate=1, n_estimators=50; total time=  15.0s\n",
      "[CV] END ...................learning_rate=1, n_estimators=50; total time=  15.3s\n",
      "[CV] END ...................learning_rate=1, n_estimators=70; total time=  22.1s\n",
      "[CV] END ...................learning_rate=1, n_estimators=70; total time=  22.1s\n",
      "[CV] END ...................learning_rate=1, n_estimators=70; total time=  21.9s\n",
      "[CV] END ...................learning_rate=1, n_estimators=70; total time=  22.1s\n",
      "[CV] END ...................learning_rate=1, n_estimators=70; total time=  21.3s\n",
      "[CV] END ..................learning_rate=1, n_estimators=100; total time=  28.5s\n",
      "[CV] END ..................learning_rate=1, n_estimators=100; total time=  28.0s\n",
      "[CV] END ..................learning_rate=1, n_estimators=100; total time=  28.1s\n",
      "[CV] END ..................learning_rate=1, n_estimators=100; total time=  23.6s\n",
      "[CV] END ..................learning_rate=1, n_estimators=100; total time=  22.6s\n",
      "Best Parameters: {'learning_rate': 1, 'n_estimators': 100}\n",
      "Best Score: 0.6954445104213067\n"
     ]
    }
   ],
   "source": [
    "from sklearn.ensemble import AdaBoostClassifier\n",
    "# # Initialize the AdaBoost Classifier\n",
    "# from sklearn.ensemble import AdaBoostClassifier\n",
    "from sklearn.model_selection import GridSearchCV\n",
    "\n",
    "# # Define the parameter grid\n",
    "# param_grid = {\n",
    "#     'n_estimators': [30, 50, 70, 100],\n",
    "#     'learning_rate': [0.001, 0.01, 0.1, 1],\n",
    "# }\n",
    "\n",
    "# # Initialize AdaBoost classifier\n",
    "# ada = AdaBoostClassifier(random_state=42)\n",
    "\n",
    "# # Initialize Grid Search\n",
    "# grid_search = GridSearchCV(ada, param_grid, cv=5, scoring='accuracy', n_jobs=-1, verbose=2)\n",
    "\n",
    "# # Fit to the data\n",
    "# grid_search.fit(X_train, y_train)\n",
    "\n",
    "# # Get the best parameters and best accuracy score\n",
    "# best_params = grid_search.best_params_\n",
    "# best_score = grid_search.best_score_\n",
    "\n",
    "# print(f\"Best Parameters: {best_params}\")\n",
    "# print(f\"Best Score: {best_score}\")\n",
    "\n",
    "# # You can then use the best estimator directly for predictions\n",
    "# best_ada = grid_search.best_estimator_\n",
    "\n"
   ]
  },
  {
   "cell_type": "code",
   "execution_count": 41,
   "metadata": {},
   "outputs": [
    {
     "name": "stdout",
     "output_type": "stream",
     "text": [
      "AdaBoost Classifier:\n",
      "Precision: 0.675003282132073\n",
      "Recall: 0.34436221158032215\n",
      "F1-Score: 0.45605943009202793\n",
      "Accuracy: 0.6966860393223693\n"
     ]
    }
   ],
   "source": [
    "# Initialize the AdaBoost Classifier\n",
    "ada_classifier = AdaBoostClassifier(learning_rate=1, n_estimators=100)\n",
    "\n",
    "ada_classifier.fit(X_train, y_train)\n",
    "y_pred_ada = ada_classifier.predict(X_test)\n",
    "print(\"AdaBoost Classifier:\")\n",
    "print(\"Precision:\", precision_score(y_test, y_pred_ada))\n",
    "print(\"Recall:\", recall_score(y_test, y_pred_ada))\n",
    "print(\"F1-Score:\", f1_score(y_test, y_pred_ada))\n",
    "print(\"Accuracy:\", accuracy_score(y_test, y_pred_ada))\n"
   ]
  },
  {
   "cell_type": "markdown",
   "metadata": {},
   "source": [
    "## Gradient Boosting"
   ]
  },
  {
   "cell_type": "code",
   "execution_count": 43,
   "metadata": {},
   "outputs": [
    {
     "name": "stdout",
     "output_type": "stream",
     "text": [
      "Gradient Boosting Classifier:\n",
      "Precision: 0.7067537725432462\n",
      "Recall: 0.5144502863266468\n",
      "F1-Score: 0.5954609764133574\n",
      "Accuracy: 0.7418943984172128\n"
     ]
    }
   ],
   "source": [
    "from sklearn.ensemble import GradientBoostingClassifier\n",
    "# Initialize the Gradient Boosting Classifier\n",
    "gb_classifier = GradientBoostingClassifier(learning_rate=1, n_estimators=100)\n",
    "\n",
    "# Train the model\n",
    "gb_classifier.fit(X_train, y_train)\n",
    "y_pred_gb = gb_classifier.predict(X_test)\n",
    "print(\"Gradient Boosting Classifier:\")\n",
    "print(\"Precision:\", precision_score(y_test, y_pred_gb))\n",
    "print(\"Recall:\", recall_score(y_test, y_pred_gb))\n",
    "print(\"F1-Score:\", f1_score(y_test, y_pred_gb))\n",
    "print(\"Accuracy:\", accuracy_score(y_test, y_pred_gb))"
   ]
  },
  {
   "cell_type": "markdown",
   "metadata": {},
   "source": [
    "## SGD Classifier"
   ]
  },
  {
   "cell_type": "code",
   "execution_count": 49,
   "metadata": {},
   "outputs": [
    {
     "name": "stdout",
     "output_type": "stream",
     "text": [
      "SGD Classifier:\n",
      "Precision: 0.7422819546758139\n",
      "Recall: 0.44204815645825657\n",
      "F1-Score: 0.5541096465452102\n",
      "Accuracy: 0.7373067886731792\n"
     ]
    }
   ],
   "source": [
    "from sklearn.linear_model import SGDClassifier\n",
    "# Initialize the SGD Classifier\n",
    "sgd_classifier = SGDClassifier()\n",
    "\n",
    "sgd_classifier.fit(X_train, y_train)\n",
    "y_pred_sgd = sgd_classifier.predict(X_test)\n",
    "print(\"SGD Classifier:\")\n",
    "print(\"Precision:\", precision_score(y_test, y_pred_sgd))\n",
    "print(\"Recall:\", recall_score(y_test, y_pred_sgd))\n",
    "print(\"F1-Score:\", f1_score(y_test, y_pred_sgd))\n",
    "print(\"Accuracy:\", accuracy_score(y_test, y_pred_sgd))\n"
   ]
  },
  {
   "cell_type": "markdown",
   "metadata": {},
   "source": [
    "## LinearSVC"
   ]
  },
  {
   "cell_type": "code",
   "execution_count": 50,
   "metadata": {},
   "outputs": [
    {
     "name": "stderr",
     "output_type": "stream",
     "text": [
      "/opt/homebrew/lib/python3.11/site-packages/sklearn/svm/_classes.py:32: FutureWarning: The default value of `dual` will change from `True` to `'auto'` in 1.5. Set the value of `dual` explicitly to suppress the warning.\n",
      "  warnings.warn(\n"
     ]
    },
    {
     "name": "stdout",
     "output_type": "stream",
     "text": [
      "LinearSVC:\n",
      "Precision: 0.7028442769838718\n",
      "Recall: 0.5122400455443555\n",
      "F1-Score: 0.5925925925925927\n",
      "Accuracy: 0.7399282799554842\n"
     ]
    },
    {
     "name": "stderr",
     "output_type": "stream",
     "text": [
      "/opt/homebrew/lib/python3.11/site-packages/sklearn/svm/_base.py:1242: ConvergenceWarning: Liblinear failed to converge, increase the number of iterations.\n",
      "  warnings.warn(\n"
     ]
    }
   ],
   "source": [
    "from sklearn.svm import LinearSVC\n",
    "# Initialize the LinearSVC\n",
    "linear_svc = LinearSVC(random_state=42)\n",
    "\n",
    "# Train the model\n",
    "linear_svc.fit(X_train, y_train)\n",
    "y_pred_svc = linear_svc.predict(X_test)\n",
    "print(\"LinearSVC:\")\n",
    "print(\"Precision:\", precision_score(y_test, y_pred_svc))\n",
    "print(\"Recall:\", recall_score(y_test, y_pred_svc))\n",
    "print(\"F1-Score:\", f1_score(y_test, y_pred_svc))\n",
    "print(\"Accuracy:\", accuracy_score(y_test, y_pred_svc))"
   ]
  },
  {
   "cell_type": "markdown",
   "metadata": {},
   "source": [
    "## Multinomial NB"
   ]
  },
  {
   "cell_type": "code",
   "execution_count": 52,
   "metadata": {},
   "outputs": [
    {
     "name": "stdout",
     "output_type": "stream",
     "text": [
      "Multinomial Naive Bayes:\n",
      "Precision: 0.627015984517239\n",
      "Recall: 0.5858812497906969\n",
      "F1-Score: 0.6057510863355435\n",
      "Accuracy: 0.7183999010758007\n"
     ]
    }
   ],
   "source": [
    "from sklearn.naive_bayes import MultinomialNB\n",
    "mnb = MultinomialNB()\n",
    "mnb.fit(X_train, y_train)\n",
    "y_pred_mnb = mnb.predict(X_test)\n",
    "print(\"Multinomial Naive Bayes:\")\n",
    "print(\"Precision:\", precision_score(y_test, y_pred_mnb))\n",
    "print(\"Recall:\", recall_score(y_test, y_pred_mnb))\n",
    "print(\"F1-Score:\", f1_score(y_test, y_pred_mnb))\n",
    "print(\"Accuracy:\", accuracy_score(y_test, y_pred_mnb))"
   ]
  },
  {
   "cell_type": "markdown",
   "metadata": {},
   "source": [
    "## Multi-Layer Perceptron"
   ]
  },
  {
   "cell_type": "code",
   "execution_count": 53,
   "metadata": {},
   "outputs": [
    {
     "name": "stdout",
     "output_type": "stream",
     "text": [
      "MLP Classifier:\n",
      "Precision: 0.7031450990481091\n",
      "Recall: 0.7322259803757409\n",
      "F1-Score: 0.7173909477172432\n",
      "Accuracy: 0.786979102262891\n"
     ]
    }
   ],
   "source": [
    "from sklearn.neural_network import MLPClassifier\n",
    "# Initialize the MLPClassifier\n",
    "mlp = MLPClassifier(random_state=42)\n",
    "mlp.fit(X_train, y_train)\n",
    "y_pred_mlp = mlp.predict(X_test)\n",
    "print(\"MLP Classifier:\")\n",
    "print(\"Precision:\", precision_score(y_test, y_pred_mlp))\n",
    "print(\"Recall:\", recall_score(y_test, y_pred_mlp))\n",
    "print(\"F1-Score:\", f1_score(y_test, y_pred_mlp))\n",
    "print(\"Accuracy:\", accuracy_score(y_test, y_pred_mlp))"
   ]
  }
 ],
 "metadata": {
  "kernelspec": {
   "display_name": "Python 3",
   "language": "python",
   "name": "python3"
  },
  "language_info": {
   "codemirror_mode": {
    "name": "ipython",
    "version": 3
   },
   "file_extension": ".py",
   "mimetype": "text/x-python",
   "name": "python",
   "nbconvert_exporter": "python",
   "pygments_lexer": "ipython3",
   "version": "3.8.5"
  },
  "vscode": {
   "interpreter": {
    "hash": "b0fa6594d8f4cbf19f97940f81e996739fb7646882a419484c72d19e05852a7e"
   }
  }
 },
 "nbformat": 4,
 "nbformat_minor": 2
}
